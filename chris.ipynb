{
 "cells": [
  {
   "cell_type": "code",
   "execution_count": 1,
   "metadata": {},
   "outputs": [],
   "source": [
    "import pyarrow as pa\n",
    "import pandas as pd\n",
    "import numpy as np\n",
    "import dotenv\n",
    "import pyodbc\n",
    "import os\n",
    "from urllib.parse import quote_plus\n",
    "from sqlalchemy import create_engine, Column, Integer, String, text\n",
    "from sqlalchemy.ext.declarative import declarative_base\n",
    "from geoalchemy2 import Geometry\n",
    "from sqlalchemy.orm import sessionmaker"
   ]
  },
  {
   "cell_type": "markdown",
   "metadata": {},
   "source": [
    "# CONNECTION"
   ]
  },
  {
   "cell_type": "code",
   "execution_count": 2,
   "metadata": {},
   "outputs": [
    {
     "name": "stdout",
     "output_type": "stream",
     "text": [
      "adventureworks-server-hdf.database.windows.net\n"
     ]
    }
   ],
   "source": [
    "dotenv.load_dotenv('./.env', override=True)\n",
    "\n",
    "DRIVER = os.getenv(\"DRIVER\")\n",
    "SERVER = os.getenv(\"SERVER\")\n",
    "if SERVER.startswith(\"tcp:\"):  # Nettoyage de l'adresse serveur\n",
    "    SERVER = SERVER.replace(\"tcp:\", \"\")\n",
    "print(SERVER)\n",
    "DATABASE = os.getenv(\"DATABASE\")\n",
    "UID = os.getenv(\"UID\")\n",
    "PWD = os.getenv(\"PWD\")\n",
    "ENCRYPT = os.getenv(\"ENCRYPT\")\n",
    "TRUSTSERVERCERTIFICATE = os.getenv(\"TRUSTSERVERCERTIFICATE\")\n",
    "CONNECTION_TIMEOUT = os.getenv(\"CONNECTION_TIMEOUT\")\n",
    "\n",
    "# Establish the connection\n",
    "# conn = pyodbc.connect(f'''\n",
    "#                       Driver={DRIVER};\n",
    "#                       Server={SERVER},1433;\n",
    "#                       Database={DATABASE};\n",
    "#                       Uid={UID};\n",
    "#                       Pwd={PWD};\n",
    "#                       Encrypt={ENCRYPT};\n",
    "#                       TrustServerCertificate={TRUSTSERVERCERTIFICATE};\n",
    "#                       Connection Timeout={CONNECTION_TIMEOUT};''')\n",
    "\n",
    "# Encodage des paramètres pour SQLAlchemy\n",
    "connection_string = (\n",
    "    f\"mssql+pyodbc://{quote_plus(UID)}:{quote_plus(PWD)}@{SERVER},{1433}/{DATABASE}\"\n",
    "    f\"?driver={quote_plus(DRIVER)}&encrypt={ENCRYPT}&TrustServerCertificate={TRUSTSERVERCERTIFICATE}\"\n",
    "    f\"&timeout={CONNECTION_TIMEOUT}\"\n",
    ")\n",
    "\n",
    "# Création du moteur SQLAlchemy\n",
    "engine = create_engine(connection_string)"
   ]
  },
  {
   "cell_type": "markdown",
   "metadata": {},
   "source": [
    "# READ ALL TABLES"
   ]
  },
  {
   "cell_type": "code",
   "execution_count": 3,
   "metadata": {},
   "outputs": [
    {
     "name": "stdout",
     "output_type": "stream",
     "text": [
      "Erreur lors de la lecture de la table Production.ProductProductPhoto: (pyodbc.ProgrammingError) ('42000', \"[42000] [Microsoft][ODBC Driver 18 for SQL Server][SQL Server]Incorrect syntax near the keyword 'Primary'. (156) (SQLExecDirectW)\")\n",
      "[SQL: SELECT ProductID, ProductPhotoID, Primary, ModifiedDate FROM Production.ProductProductPhoto]\n",
      "(Background on this error at: https://sqlalche.me/e/20/f405)\n",
      "Erreur lors de la lecture de la table Production.ProductDocument: (pyodbc.ProgrammingError) ('ODBC SQL type -151 is not yet supported.  column-index=1  type=-151', 'HY106')\n",
      "(Background on this error at: https://sqlalche.me/e/20/f405)\n",
      "Erreur lors de la lecture de la table Production.Document: (pyodbc.ProgrammingError) ('ODBC SQL type -151 is not yet supported.  column-index=0  type=-151', 'HY106')\n",
      "(Background on this error at: https://sqlalche.me/e/20/f405)\n",
      "Erreur lors de la lecture de la table Sales.SalesTerritory: (pyodbc.ProgrammingError) ('42000', \"[42000] [Microsoft][ODBC Driver 18 for SQL Server][SQL Server]Incorrect syntax near the keyword 'Group'. (156) (SQLExecDirectW)\")\n",
      "[SQL: SELECT TerritoryID, Name, CountryRegionCode, Group, SalesYTD, SalesLastYear, CostYTD, CostLastYear, rowguid, ModifiedDate FROM Sales.SalesTerritory]\n",
      "(Background on this error at: https://sqlalche.me/e/20/f405)\n",
      "Exportation terminée.\n"
     ]
    }
   ],
   "source": [
    "import os\n",
    "\n",
    "query = \"\"\"\n",
    "SELECT *\n",
    "  FROM INFORMATION_SCHEMA.TABLES\n",
    " WHERE table_schema IN ('Person', 'Production', 'Sales')\n",
    "\"\"\"\n",
    "\n",
    "df_tables = pd.read_sql_query(query, engine)\n",
    "\n",
    "# Create the output directory if it doesn't exist\n",
    "output_dir = './output/SQL-server/'\n",
    "os.makedirs(output_dir, exist_ok=True)\n",
    "\n",
    "# Loop through each table and save its data to a CSV file\n",
    "# for index, row in df.iterrows():\n",
    "#   table_schema = row['TABLE_SCHEMA']\n",
    "#   table_name = row['TABLE_NAME']\n",
    "#   print(index, table_schema, table_name)\n",
    "#   table_query = f\"SELECT * FROM {table_schema}.{table_name}\"\n",
    "#   table_df = pd.read_sql_query(table_query, engine)\n",
    "#   output_file = os.path.join(output_dir, f\"{table_schema}.{table_name}.csv\")\n",
    "#   table_df.to_csv(output_file, index=False)\n",
    "\n",
    "\n",
    "# Fonction pour obtenir les colonnes et leurs types pour une table donnée\n",
    "def get_table_columns(schema, table, engine):\n",
    "    columns_query = \"\"\"\n",
    "    SELECT COLUMN_NAME, DATA_TYPE\n",
    "      FROM INFORMATION_SCHEMA.COLUMNS\n",
    "     WHERE TABLE_SCHEMA = :schema AND TABLE_NAME = :table\n",
    "    \"\"\"\n",
    "    return pd.read_sql_query(text(columns_query), engine, params={\"schema\": schema, \"table\": table})\n",
    "\n",
    "# Boucle à travers chaque table et sauvegarde ses données dans un fichier CSV\n",
    "for index, row in df_tables.iterrows():\n",
    "    table_schema = row['TABLE_SCHEMA']\n",
    "    table_name = row['TABLE_NAME']\n",
    "    # print(f\"Traitement de la table {index}: {table_schema}.{table_name}\")\n",
    "    \n",
    "    # Obtenir les colonnes et types de la table\n",
    "    df_columns = get_table_columns(table_schema, table_name, engine)\n",
    "    \n",
    "    # Construire la clause SELECT en gérant les colonnes spatiales\n",
    "    select_columns = []\n",
    "    for _, col in df_columns.iterrows():\n",
    "        column_name = col['COLUMN_NAME']\n",
    "        data_type = col['DATA_TYPE']\n",
    "        if data_type in ('geometry', 'geography'):\n",
    "            # Convertir les colonnes spatiales en WKT\n",
    "            select_columns.append(f\"{column_name}.STAsText() AS {column_name}_WKT\")\n",
    "        else:\n",
    "            select_columns.append(column_name)\n",
    "    \n",
    "    select_clause = \", \".join(select_columns)\n",
    "    table_query = f\"SELECT {select_clause} FROM {table_schema}.{table_name}\"\n",
    "    \n",
    "    # Lire les données de la table\n",
    "    try:\n",
    "        table_df = pd.read_sql_query(table_query, engine)\n",
    "    except Exception as e:\n",
    "        print(f\"Erreur lors de la lecture de la table {table_schema}.{table_name}: {e}\")\n",
    "        continue\n",
    "    \n",
    "    # Définir le chemin du fichier de sortie\n",
    "    output_file = os.path.join(output_dir, f\"{table_schema}.{table_name}.csv\")\n",
    "    \n",
    "    # Sauvegarder les données dans un fichier CSV\n",
    "    table_df.to_csv(output_file, index=False)\n",
    "    # print(f\"Table {table_schema}.{table_name} sauvegardée dans {output_file}\")\n",
    "\n",
    "print(\"Exportation terminée.\")"
   ]
  },
  {
   "cell_type": "code",
   "execution_count": 3,
   "metadata": {},
   "outputs": [
    {
     "ename": "NameError",
     "evalue": "name 'engine' is not defined",
     "output_type": "error",
     "traceback": [
      "\u001b[0;31m---------------------------------------------------------------------------\u001b[0m",
      "\u001b[0;31mNameError\u001b[0m                                 Traceback (most recent call last)",
      "Cell \u001b[0;32mIn[3], line 2\u001b[0m\n\u001b[1;32m      1\u001b[0m \u001b[38;5;66;03m# Fermer l'engine pour libérer les ressources\u001b[39;00m\n\u001b[0;32m----> 2\u001b[0m \u001b[43mengine\u001b[49m\u001b[38;5;241m.\u001b[39mdispose()\n",
      "\u001b[0;31mNameError\u001b[0m: name 'engine' is not defined"
     ]
    }
   ],
   "source": [
    "# Fermer l'engine pour libérer les ressources\n",
    "engine.dispose()"
   ]
  }
 ],
 "metadata": {
  "kernelspec": {
   "display_name": "venv",
   "language": "python",
   "name": "python3"
  },
  "language_info": {
   "codemirror_mode": {
    "name": "ipython",
    "version": 3
   },
   "file_extension": ".py",
   "mimetype": "text/x-python",
   "name": "python",
   "nbconvert_exporter": "python",
   "pygments_lexer": "ipython3",
   "version": "3.12.3"
  }
 },
 "nbformat": 4,
 "nbformat_minor": 2
}
