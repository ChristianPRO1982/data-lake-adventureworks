{
 "cells": [
  {
   "cell_type": "code",
   "execution_count": 32,
   "metadata": {},
   "outputs": [],
   "source": [
    "import pyarrow as pa\n",
    "import pandas as pd\n",
    "import numpy as np\n",
    "import pyarrow.parquet as pq\n",
    "import dotenv\n",
    "import pyodbc\n",
    "import os\n",
    "from sqlalchemy import create_engine"
   ]
  },
  {
   "cell_type": "markdown",
   "metadata": {},
   "source": [
    "# CONNECTION"
   ]
  },
  {
   "cell_type": "code",
   "execution_count": 33,
   "metadata": {},
   "outputs": [
    {
     "name": "stdout",
     "output_type": "stream",
     "text": [
      "tcp:adventureworks-server-hdf.database.windows.net\n"
     ]
    }
   ],
   "source": [
    "dotenv.load_dotenv('../.env', override=True)\n",
    "\n",
    "DRIVER = os.getenv(\"DRIVER\")\n",
    "SERVER = os.getenv(\"SERVER\")\n",
    "print(SERVER)\n",
    "DATABASE = os.getenv(\"DATABASE\")\n",
    "UID = os.getenv(\"UID\")\n",
    "PWD = os.getenv(\"PWD\")\n",
    "ENCRYPT = os.getenv(\"ENCRYPT\")\n",
    "TRUSTSERVERCERTIFICATE = os.getenv(\"TRUSTSERVERCERTIFICATE\")\n",
    "CONNECTION_TIMEOUT = os.getenv(\"CONNECTION_TIMEOUT\")\n",
    "\n",
    "# Establish the connection\n",
    "conn = pyodbc.connect(f'''\n",
    "                      Driver={DRIVER};\n",
    "                      Server={SERVER},1433;\n",
    "                      Database={DATABASE};\n",
    "                      Uid={UID};\n",
    "                      Pwd={PWD};\n",
    "                      Encrypt={ENCRYPT};\n",
    "                      TrustServerCertificate={TRUSTSERVERCERTIFICATE};\n",
    "                      Connection Timeout={CONNECTION_TIMEOUT};''')\n",
    "\n",
    "# Construction de l'URI SQLAlchemy\n",
    "# connection_uri = (\n",
    "#     f\"mssql+pyodbc://{UID}:{PWD}@{SERVER},1433/{DATABASE}\"\n",
    "#     f\"?driver={DRIVER}\"\n",
    "#     f\"&encrypt={ENCRYPT}\"\n",
    "#     f\"&TrustServerCertificate={TRUSTSERVERCERTIFICATE}\"\n",
    "#     f\"&timeout={CONNECTION_TIMEOUT}\"\n",
    "# )\n",
    "\n",
    "# Création du moteur SQLAlchemy\n",
    "# engine = create_engine(connection_uri)"
   ]
  },
  {
   "cell_type": "markdown",
   "metadata": {},
   "source": [
    "# READ ALL TABLES"
   ]
  },
  {
   "cell_type": "code",
   "execution_count": 34,
   "metadata": {},
   "outputs": [
    {
     "name": "stderr",
     "output_type": "stream",
     "text": [
      "/tmp/ipykernel_214580/4077564492.py:7: UserWarning: pandas only supports SQLAlchemy connectable (engine/connection) or database string URI or sqlite3 DBAPI2 connection. Other DBAPI2 objects are not tested. Please consider using SQLAlchemy.\n",
      "  df = pd.read_sql_query(query, conn)\n"
     ]
    }
   ],
   "source": [
    "query = \"\"\"\n",
    "SELECT *\n",
    "  FROM INFORMATION_SCHEMA.TABLES\n",
    " WHERE table_schema IN ('Person', 'Production', 'Sales')\n",
    "\"\"\"\n",
    "\n",
    "df = pd.read_sql_query(query, conn)"
   ]
  },
  {
   "cell_type": "code",
   "execution_count": 35,
   "metadata": {},
   "outputs": [],
   "source": [
    "conn.close()"
   ]
  }
 ],
 "metadata": {
  "kernelspec": {
   "display_name": "venv",
   "language": "python",
   "name": "python3"
  },
  "language_info": {
   "codemirror_mode": {
    "name": "ipython",
    "version": 3
   },
   "file_extension": ".py",
   "mimetype": "text/x-python",
   "name": "python",
   "nbconvert_exporter": "python",
   "pygments_lexer": "ipython3",
   "version": "3.12.3"
  }
 },
 "nbformat": 4,
 "nbformat_minor": 2
}
